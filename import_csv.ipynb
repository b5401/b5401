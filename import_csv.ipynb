{
 "cells": [
  {
   "cell_type": "markdown",
   "id": "a58ac756-568b-47f0-aa10-3db61ec9bda7",
   "metadata": {},
   "source": [
    "## Importing a CSV file into a postgres database\n",
    "\n",
    "#### steps\n",
    "\n",
    "- import the CSV file into a pandas df\n",
    "- clean the table name and remove extra symbols, spaces, capital letters\n",
    "- clean the column headers and remove extra symbols, spaces, capital letters\n",
    "- write the create table SQL statement\n",
    "- import the data to the db"
   ]
  },
  {
   "cell_type": "code",
   "execution_count": 47,
   "id": "0a6e5a25-8c65-4c4f-a936-9a76771d8501",
   "metadata": {},
   "outputs": [],
   "source": [
    "# import libraries\n",
    "\n",
    "import os\n",
    "import pandas as pd\n",
    "import numpy as np\n",
    "import psycopg2"
   ]
  },
  {
   "cell_type": "code",
   "execution_count": 48,
   "id": "0fc9a01a-e380-4e8e-b78f-0f00bf8fa104",
   "metadata": {},
   "outputs": [
    {
     "data": {
      "text/html": [
       "<div>\n",
       "<style scoped>\n",
       "    .dataframe tbody tr th:only-of-type {\n",
       "        vertical-align: middle;\n",
       "    }\n",
       "\n",
       "    .dataframe tbody tr th {\n",
       "        vertical-align: top;\n",
       "    }\n",
       "\n",
       "    .dataframe thead th {\n",
       "        text-align: right;\n",
       "    }\n",
       "</style>\n",
       "<table border=\"1\" class=\"dataframe\">\n",
       "  <thead>\n",
       "    <tr style=\"text-align: right;\">\n",
       "      <th></th>\n",
       "      <th>primer_name</th>\n",
       "      <th>primer_seq</th>\n",
       "    </tr>\n",
       "  </thead>\n",
       "  <tbody>\n",
       "    <tr>\n",
       "      <th>0</th>\n",
       "      <td>T7SMF</td>\n",
       "      <td>gcgtgtgcgggccttagagct</td>\n",
       "    </tr>\n",
       "    <tr>\n",
       "      <th>1</th>\n",
       "      <td>T7SMR</td>\n",
       "      <td>atgcgctagctagagatc</td>\n",
       "    </tr>\n",
       "    <tr>\n",
       "      <th>2</th>\n",
       "      <td>MT7SMF</td>\n",
       "      <td>gctctatcgcgctattaaa</td>\n",
       "    </tr>\n",
       "    <tr>\n",
       "      <th>3</th>\n",
       "      <td>MT7SMR</td>\n",
       "      <td>aaattccgagacgctagaga</td>\n",
       "    </tr>\n",
       "  </tbody>\n",
       "</table>\n",
       "</div>"
      ],
      "text/plain": [
       "  primer_name              primer_seq\n",
       "0       T7SMF   gcgtgtgcgggccttagagct\n",
       "1       T7SMR      atgcgctagctagagatc\n",
       "2      MT7SMF     gctctatcgcgctattaaa\n",
       "3      MT7SMR    aaattccgagacgctagaga"
      ]
     },
     "execution_count": 48,
     "metadata": {},
     "output_type": "execute_result"
    }
   ],
   "source": [
    "df = pd.read_csv(r'C:\\Users\\npc\\Desktop\\b5401\\b5401\\primers.csv')\n",
    "df"
   ]
  },
  {
   "cell_type": "code",
   "execution_count": 49,
   "id": "1115127e-92f5-4571-abe1-2fb246fff795",
   "metadata": {},
   "outputs": [
    {
     "name": "stdout",
     "output_type": "stream",
     "text": [
      "open database successfully\n"
     ]
    }
   ],
   "source": [
    "# open a db connection\n",
    "conn_string = \"host='localhost' \\\n",
    "               dbname='gene_db' \\\n",
    "               user='postgres' \\\n",
    "               password='1'\"\n",
    "conn = psycopg2.connect(conn_string)\n",
    "cursor = conn.cursor()\n",
    "print('open database successfully')"
   ]
  },
  {
   "cell_type": "code",
   "execution_count": 50,
   "id": "e993ba29-dafa-45fd-8d4e-c734ebf13905",
   "metadata": {},
   "outputs": [
    {
     "name": "stdout",
     "output_type": "stream",
     "text": [
      "file opened in memory\n"
     ]
    }
   ],
   "source": [
    "# insert values to table\n",
    "\n",
    "# open the csv file, save it as an object\n",
    "my_file = open(r'C:\\Users\\npc\\Desktop\\b5401\\b5401\\primers.csv')\n",
    "print('file opened in memory')"
   ]
  },
  {
   "cell_type": "code",
   "execution_count": 51,
   "id": "b9ada957-775b-4967-903c-d37d1dd47d6b",
   "metadata": {},
   "outputs": [
    {
     "name": "stdout",
     "output_type": "stream",
     "text": [
      "file copied to db\n"
     ]
    }
   ],
   "source": [
    "# upload to db\n",
    "\n",
    "SQL_STATEMENT = \"\"\"\n",
    "COPY stg.primers FROM STDIN WITH\n",
    "    CSV\n",
    "    HEADER\n",
    "    DELIMITER AS ','\n",
    "\"\"\"\n",
    "\n",
    "cursor.copy_expert(sql=SQL_STATEMENT, file=my_file)\n",
    "print('file copied to db')"
   ]
  },
  {
   "cell_type": "code",
   "execution_count": 52,
   "id": "620ba8d6-771a-4dc0-ad19-ec8343c5b6ac",
   "metadata": {},
   "outputs": [
    {
     "name": "stdout",
     "output_type": "stream",
     "text": [
      "table primers uploaded to db\n"
     ]
    }
   ],
   "source": [
    "cursor.execute(\"grant select on table primers to public\")\n",
    "conn.commit()\n",
    "\n",
    "cursor.close()\n",
    "print('table primers uploaded to db')"
   ]
  }
 ],
 "metadata": {
  "kernelspec": {
   "display_name": "Python 3 (ipykernel)",
   "language": "python",
   "name": "python3"
  },
  "language_info": {
   "codemirror_mode": {
    "name": "ipython",
    "version": 3
   },
   "file_extension": ".py",
   "mimetype": "text/x-python",
   "name": "python",
   "nbconvert_exporter": "python",
   "pygments_lexer": "ipython3",
   "version": "3.12.2"
  }
 },
 "nbformat": 4,
 "nbformat_minor": 5
}
